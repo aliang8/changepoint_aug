{
 "cells": [
  {
   "cell_type": "markdown",
   "id": "087d514e-6e0e-4bcf-b6e7-e348d933d3e8",
   "metadata": {},
   "source": [
    "## proximal bregman influence functions\n",
    "\n",
    "Simple implementation of the ideas described in Section 2 of https://arxiv.org/pdf/2308.03296.pdf."
   ]
  },
  {
   "cell_type": "code",
   "execution_count": 88,
   "id": "55bf3664-8fc7-46c1-ae6b-2244efcbcafc",
   "metadata": {},
   "outputs": [],
   "source": [
    "import jax\n",
    "import jax.flatten_util\n",
    "import jax.numpy as jnp\n",
    "import jax.scipy as jsp\n",
    "import flax.linen as nn\n",
    "import optax\n",
    "\n",
    "import numpy as np\n",
    "import matplotlib.pylab as plt"
   ]
  },
  {
   "cell_type": "markdown",
   "id": "54693565-bfa6-4a00-b58e-53a00b26431a",
   "metadata": {},
   "source": [
    "### MSE implementation\n",
    "\n",
    "Here, we assume the model $f : \\Theta \\times \\mathsf{X} \\mapsto \\mathsf{Y}$, where $\\Theta \\subseteq \\mathbb{R}^p$ and $\\mathsf{Y} \\subseteq \\mathbb{R}^k$."
   ]
  },
  {
   "cell_type": "code",
   "execution_count": 25,
   "id": "ac2e6403-5c77-4a53-9f44-0467e5b5fda5",
   "metadata": {},
   "outputs": [],
   "source": [
    "class FullyConnected(nn.Module):\n",
    "    output_dim: int\n",
    "    feature_dim: int = 64\n",
    "\n",
    "    @nn.compact\n",
    "    def __call__(self, x: jax.Array) -> jax.Array:\n",
    "        x = nn.Dense(self.feature_dim)(x)\n",
    "        x = nn.swish(x)\n",
    "        x = nn.Dense(self.output_dim)(x)\n",
    "        return x"
   ]
  },
  {
   "cell_type": "code",
   "execution_count": 26,
   "id": "155f6f7e-b46f-4bff-883f-67cebeb034d4",
   "metadata": {},
   "outputs": [],
   "source": [
    "# randomly initialize a planted network\n",
    "input_dim = 3\n",
    "output_dim = 5\n",
    "planted_network = FullyConnected(output_dim)\n",
    "planted_params = planted_network.init(jax.random.PRNGKey(0), jnp.zeros((1, input_dim)))"
   ]
  },
  {
   "cell_type": "code",
   "execution_count": 57,
   "id": "f07b3d12-4f44-4c88-98a9-a5c33cd16141",
   "metadata": {},
   "outputs": [],
   "source": [
    "# initialize a dataset drawn from the planted network, but a small fraction is garbage\n",
    "inputs = jax.random.normal(jax.random.PRNGKey(1), shape=(1000, input_dim))\n",
    "outputs = planted_network.apply(planted_params, inputs) + jax.random.uniform(jax.random.PRNGKey(2), minval=-0.5, maxval=0.5, shape=(1000, output_dim))\n",
    "outputs = jnp.concatenate((\n",
    "    outputs[:-100, ...], \n",
    "    jax.random.normal(jax.random.PRNGKey(2), shape=(100 ,output_dim))), axis=0)\n"
   ]
  },
  {
   "cell_type": "code",
   "execution_count": 74,
   "id": "d1dfeb24-0260-4dc7-98c8-02acb5a03c28",
   "metadata": {},
   "outputs": [
    {
     "name": "stdout",
     "output_type": "stream",
     "text": [
      "final mse 0.9952824\n"
     ]
    }
   ],
   "source": [
    "# train the network on this dataset\n",
    "\n",
    "optimizer = optax.adam(learning_rate=1e-2)\n",
    "params = planted_network.init(jax.random.PRNGKey(193), jnp.zeros((1, input_dim)))\n",
    "opt_state = optimizer.init(params)\n",
    "\n",
    "@jax.jit\n",
    "def do_batch(opt_state, params, batch_inputs, batch_outputs):\n",
    "    def loss(params):\n",
    "        return jnp.sum(jnp.square(planted_network.apply(params, batch_inputs) - batch_outputs))\n",
    "    value, g = jax.value_and_grad(loss)(params)\n",
    "    updates, opt_state = optimizer.update(g, opt_state)\n",
    "    params = optax.apply_updates(params, updates)\n",
    "    return opt_state, params, value\n",
    "\n",
    "for _ in range(2000):\n",
    "    opt_state, params, value = do_batch(opt_state, params, inputs, outputs)\n",
    "    # print(\"loss\", value)\n",
    "print(\"final mse\", value / len(inputs))\n",
    "\n",
    "residuals = planted_network.apply(params, inputs) - outputs"
   ]
  },
  {
   "cell_type": "code",
   "execution_count": 78,
   "id": "2ace69ad-4fa3-4059-ba3e-cced5b7123e4",
   "metadata": {},
   "outputs": [],
   "source": [
    "# compute the Gauss-Newton matrix assuming the square loss\n",
    "# note that the Hessian of the square loss is identity,\n",
    "# so we only need to compute G = \\sum_i J_i^T J_i, where J_i is the Jacobian of the network's output on the i-th datapoint\n",
    "# refs: eqs (6) and (9) of https://arxiv.org/pdf/2308.03296.pdf. note that we set \\epsilon = -1/n (which equates to removal of a train datapoint)\n",
    "\n",
    "def compute_jacobian(params, x):\n",
    "    # make a output_dim x num_params Jacobian\n",
    "    flat_params, unravel = jax.flatten_util.ravel_pytree(params)\n",
    "    return jax.jacobian(lambda flat_params: planted_network.apply(unravel(flat_params), x[None, ...])[0])(flat_params)\n",
    "\n",
    "def compute_scores(jacs, residuals, lam):\n",
    "    G = jax.vmap(lambda j: j.T @ j)(jacs)\n",
    "    G = jnp.sum(G, axis=0)\n",
    "    H_inv = jsp.linalg.solve(G + lam * jnp.eye(G.shape[0]), jnp.eye(G.shape[0]), assume_a='pos')\n",
    "    gs = jax.vmap(lambda j, r: j.T @ r)(jacs, residuals)\n",
    "    scores = jax.vmap(lambda g: g.T @ H_inv @ g)(gs)\n",
    "    return scores"
   ]
  },
  {
   "cell_type": "code",
   "execution_count": 89,
   "id": "31956bad-9f3b-45b8-9408-881f6fd32f95",
   "metadata": {},
   "outputs": [],
   "source": [
    "lam = 1e-2\n",
    "jacs = jax.vmap(compute_jacobian, in_axes=(None, 0))(params, inputs)\n",
    "scores = compute_scores(jacs, residuals, lam)"
   ]
  },
  {
   "cell_type": "code",
   "execution_count": 90,
   "id": "dda5d271-476d-4071-a4f2-5ca0c7d1b200",
   "metadata": {},
   "outputs": [
    {
     "data": {
      "text/plain": [
       "[<matplotlib.lines.Line2D at 0x17609f190>]"
      ]
     },
     "execution_count": 90,
     "metadata": {},
     "output_type": "execute_result"
    },
    {
     "data": {
      "image/png": "[encoded data removed]",
      "text/plain": [
       "<Figure size 640x480 with 1 Axes>"
      ]
     },
     "metadata": {},
     "output_type": "display_data"
    }
   ],
   "source": [
    "plt.plot(np.arange(900), scores[:-100], 'b.')\n",
    "plt.plot(np.arange(100) + 900, scores[-100:], 'r.')"
   ]
  },
  {
   "cell_type": "code",
   "execution_count": null,
   "id": "7221b135-0ce5-479c-ab83-4fdb74be6783",
   "metadata": {},
   "outputs": [],
   "source": []
  }
 ],
 "metadata": {
  "kernelspec": {
   "display_name": "Python 3 (ipykernel)",
   "language": "python",
   "name": "python3"
  },
  "language_info": {
   "codemirror_mode": {
    "name": "ipython",
    "version": 3
   },
   "file_extension": ".py",
   "mimetype": "text/x-python",
   "name": "python",
   "nbconvert_exporter": "python",
   "pygments_lexer": "ipython3",
   "version": "3.11.5"
  }
 },
 "nbformat": 4,
 "nbformat_minor": 5
}
