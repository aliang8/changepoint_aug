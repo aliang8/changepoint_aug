{
 "cells": [
  {
   "cell_type": "code",
   "execution_count": 22,
   "metadata": {},
   "outputs": [],
   "source": [
    "import pickle\n",
    "import tqdm\n",
    "import numpy as np\n",
    "from PIL import Image\n",
    "import imageio\n",
    "import os\n",
    "from changepoint_aug.density_estimation.utils import make_env"
   ]
  },
  {
   "cell_type": "code",
   "execution_count": 35,
   "metadata": {},
   "outputs": [
    {
     "name": "stdout",
     "output_type": "stream",
     "text": [
      "{'density_model_ckpt_path': '', 'model_ckpt_path': PosixPath('/scr/aliang80/changepoint_aug/changepoint_aug/density_estimation/ray_results/i005_bc_200/i005_bc_200_nt-100_s-0/model_ckpts/epoch_180.pkl'), 'num_transitions': 3400, 'config': {'augment_data_file': '', 'augmentation_data_files': [], 'batch_size': 128, 'ckpt_dir': 'model_ckpts', 'ckpt_step': 180, 'cond_dim': 2, 'data_dir': '/scr/aliang80/changepoint_aug/changepoint_aug/density_estimation/datasets', 'data_file': 'sac_maze_200.pkl', 'density_ckpt_step': 950, 'density_exp_name': 'i006_cvae', 'density_model_ckpt': 'nt-200', 'disable_tqdm': False, 'env': 'MAZE', 'env_id': 'button-press-v2', 'exp_name': 'i005_bc_200', 'group_name': '', 'hidden_size': 128, 'inf_fn_lambda': 0.01, 'kl_annealing': True, 'kl_div_weight': 0.5, 'lamb': 1.3, 'latent_size': 8, 'load_from_ckpt': '/scr/aliang80/changepoint_aug/changepoint_aug/density_estimation/ray_results/i005_bc_200/i005_bc_200_nt-100_s-0/model_ckpts/epoch_180.pkl', 'lr': 0.0003, 'max_episode_steps': 1000, 'max_states_visualize': 5, 'metric_threshold': 100, 'mode': 'train', 'model_ckpt': 'nt-100_s-0', 'notes': '', 'num_augmentations_per_state': 2, 'num_epochs': 200, 'num_eval_episodes': 20, 'num_expert_steps_aug': 50, 'num_perturb_steps': 2, 'num_policies': 5, 'num_posterior_samples': 100, 'num_trajs': 100, 'policy_cls': 'mlp', 'reweight_with_density': False, 'root_dir': '/scr/aliang80/changepoint_aug/changepoint_aug/density_estimation', 'save_interval': 20, 'save_video': False, 'seed': 0, 'selection': 'per_traj', 'selection_metric': 'influence_function', 'shuffle_dataset': True, 'smoke_test': True, 'tags': [], 'test_interval': 20, 'top_k': 1, 'total_num_states': 100, 'train_perc': 0.9, 'use_wb': False, 'video_dir': 'videos', 'visualize': False}}\n",
      "3400\n",
      "68\n"
     ]
    },
    {
     "name": "stderr",
     "output_type": "stream",
     "text": [
      "100%|██████████| 68/68 [00:41<00:00,  1.66it/s]\n"
     ]
    }
   ],
   "source": [
    "data_f = \"/scr/aliang80/changepoint_aug/changepoint_aug/density_estimation/datasets/augment_dataset_lam-1.3_nap-2_nes-50_nps-2_rwd-False_sel-per_traj_selm-influence_function_tns-100.pkl\"\n",
    "with open(data_f, \"rb\") as f:\n",
    "    data = pickle.load(f)\n",
    "\n",
    "print(data[\"metadata\"])\n",
    "print(len(data[\"rollouts\"]))\n",
    "\n",
    "num_expert_steps_aug = data[\"metadata\"][\"config\"][\"num_expert_steps_aug\"]\n",
    "config = data[\"metadata\"][\"config\"]\n",
    "\n",
    "# split rollouts\n",
    "aug_rollouts = [data[\"rollouts\"][i:i+num_expert_steps_aug] for i in range(0, len(data[\"rollouts\"]), num_expert_steps_aug)]\n",
    "print(len(aug_rollouts))\n",
    "\n",
    "env = make_env(\n",
    "    config[\"env\"],\n",
    "    config[\"env_id\"],\n",
    "    config[\"seed\"],\n",
    "    max_episode_steps=config[\"max_episode_steps\"],\n",
    ")\n",
    "obs, _ = env.reset(seed=config[\"seed\"])\n",
    "\n",
    "imgs = []\n",
    "for rollout in tqdm.tqdm(aug_rollouts[:100]):\n",
    "    transition = rollout[0]\n",
    "    state = transition[0]\n",
    "    state = np.concatenate([v for k, v in state.items() if k != \"achieved_goal\"])\n",
    "    obs, _ = env.reset_to_state(state)\n",
    "    img = env.render()\n",
    "    imgs.append(img)\n",
    "\n",
    "    for transition in rollout:\n",
    "        action = transition[2]\n",
    "        env.step(action)\n",
    "        img = env.render()\n",
    "        imgs.append(img)\n"
   ]
  },
  {
   "cell_type": "code",
   "execution_count": 36,
   "metadata": {},
   "outputs": [],
   "source": [
    "# make a video of the images\n",
    "video_f = \"/scr/aliang80/changepoint_aug/changepoint_aug/density_estimation/datasets/augmentations.mp4\"\n",
    "imageio.mimsave(video_f, imgs, fps=10)"
   ]
  },
  {
   "cell_type": "code",
   "execution_count": null,
   "metadata": {},
   "outputs": [],
   "source": []
  }
 ],
 "metadata": {
  "kernelspec": {
   "display_name": "jax2",
   "language": "python",
   "name": "python3"
  },
  "language_info": {
   "codemirror_mode": {
    "name": "ipython",
    "version": 3
   },
   "file_extension": ".py",
   "mimetype": "text/x-python",
   "name": "python",
   "nbconvert_exporter": "python",
   "pygments_lexer": "ipython3",
   "version": "3.11.7"
  }
 },
 "nbformat": 4,
 "nbformat_minor": 2
}
