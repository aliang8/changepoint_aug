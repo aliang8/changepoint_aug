{
 "cells": [
  {
   "cell_type": "code",
   "execution_count": 4,
   "metadata": {},
   "outputs": [],
   "source": [
    "# Load results from experiments\n",
    "\n",
    "import pickle \n",
    "import os \n",
    "import jax \n",
    "import re\n",
    "import numpy as np\n",
    "from pathlib import Path\n",
    "from collections import defaultdict as dd\n",
    "import matplotlib.pyplot as plt \n",
    "import pandas as pd"
   ]
  },
  {
   "cell_type": "code",
   "execution_count": 5,
   "metadata": {},
   "outputs": [],
   "source": [
    "results_folder = \"/scr/aliang80/changepoint_aug/changepoint_aug/density_estimation/ray_results\"\n",
    "\n",
    "def get_exp_df(exp_name_map):\n",
    "    # group results based on seed \n",
    "    results = {}\n",
    "\n",
    "    # search exps under the folder\n",
    "    exp_names = list(exp_name_map.keys())\n",
    "    for exp_name in exp_names:\n",
    "        exp_folder = Path(results_folder) / exp_name\n",
    "        exp_folders = list(exp_folder.glob(\"*\"))\n",
    "\n",
    "        exp_results = dd(list)\n",
    "\n",
    "        for folder in exp_folders:\n",
    "            if not folder.is_dir():\n",
    "                continue\n",
    "            \n",
    "            base_name = folder.name\n",
    "            \n",
    "            # remove seed from name\n",
    "            base = re.sub(r'_s-\\d', '', base_name)\n",
    "\n",
    "            # look at the ckpt files to see the best result \n",
    "            ckpt_folder = folder / \"model_ckpts\"\n",
    "            \n",
    "            # print(ckpt_folder)\n",
    "            if not ckpt_folder.exists():\n",
    "                print(f\"No ckpt folder for {ckpt_folder}\")\n",
    "                continue\n",
    "\n",
    "            best_f = ckpt_folder / \"best.txt\"\n",
    "            if not best_f.exists():\n",
    "                continue\n",
    "\n",
    "            with open(best_f, 'r') as f:\n",
    "                epoch, sr = f.read().split(\",\")\n",
    "                sr = sr.strip()\n",
    "\n",
    "            # # remove the exp name from the base name\n",
    "            # # get number of trajectories\n",
    "            # num_trajs = re.search(r'nt-\\d+', base).group(0).split(\"-\")[1]\n",
    "            # base = int(num_trajs)\n",
    "            \n",
    "            base = base.replace(exp_name + \"_\", \"\")\n",
    "            exp_results[base].append(float(sr))\n",
    "\n",
    "        results[exp_name_map[exp_name]] = exp_results\n",
    "\n",
    "    # convert to dataframe\n",
    "    df = pd.DataFrame.from_dict(results, orient='index')\n",
    "\n",
    "    # sort dataframe by name \n",
    "    def sort_by_nt(x):\n",
    "        return int(re.search(r'nt-\\d+', x).group(0).split(\"-\")[1])\n",
    "    df = df.reindex(sorted(df.columns, key=sort_by_nt), axis=1).transpose()\n",
    "\n",
    "    print(df)\n",
    "    # take the mean of each cell in df\n",
    "    df_mean = df.map(lambda x: np.mean(x))\n",
    "    df_std = df.map(lambda x: np.std(x))\n",
    "    return df_mean, df_std"
   ]
  },
  {
   "cell_type": "code",
   "execution_count": 12,
   "metadata": {},
   "outputs": [
    {
     "name": "stdout",
     "output_type": "stream",
     "text": [
      "                                         BC               BC Aug (PVar 500)  \\\n",
      "nt-5     [0.32, 0.3, 0.2, 0.26, 0.24, 0.08]   [0.32, 0.28, 0.36, 0.26, 0.4]   \n",
      "nt-10         [0.38, 0.4, 0.24, 0.36, 0.26]   [0.22, 0.36, 0.26, 0.32, 0.2]   \n",
      "nt-25   [0.3, 0.34, 0.48, 0.36, 0.44, 0.36]   [0.48, 0.36, 0.4, 0.38, 0.44]   \n",
      "nt-50   [0.42, 0.48, 0.42, 0.5, 0.48, 0.42]    [0.56, 0.52, 0.5, 0.3, 0.36]   \n",
      "nt-75   [0.54, 0.46, 0.42, 0.6, 0.36, 0.54]  [0.54, 0.46, 0.52, 0.52, 0.44]   \n",
      "nt-100  [0.4, 0.54, 0.56, 0.48, 0.48, 0.68]                             NaN   \n",
      "\n",
      "                    BC Aug (PVar 1000)       BC Aug (Rand States 1000)  \n",
      "nt-5     [0.42, 0.32, 0.4, 0.34, 0.36]   [0.12, 0.36, 0.22, 0.3, 0.18]  \n",
      "nt-10    [0.44, 0.3, 0.36, 0.42, 0.32]   [0.48, 0.34, 0.3, 0.26, 0.34]  \n",
      "nt-25    [0.58, 0.4, 0.42, 0.46, 0.48]  [0.34, 0.48, 0.38, 0.52, 0.38]  \n",
      "nt-50     [0.6, 0.42, 0.58, 0.46, 0.4]  [0.48, 0.48, 0.38, 0.48, 0.34]  \n",
      "nt-75   [0.48, 0.56, 0.52, 0.48, 0.56]   [0.44, 0.52, 0.38, 0.44, 0.6]  \n",
      "nt-100                             NaN                             NaN  \n"
     ]
    }
   ],
   "source": [
    "exp_name_map = {\n",
    "    \"i022_bc_base\": \"BC\",\n",
    "    \"i023_bc_pvar_500\": \"BC Aug (PVar 500)\",\n",
    "    \"i023_bc_pvar_1000\": \"BC Aug (PVar 1000)\",\n",
    "    # \"i022_bc_base_gaussian\": \"BC w/ Gaussian\",\n",
    "    # \"i024_bc_if_500\": \"BC Aug (IF 500)\",\n",
    "    # \"i024_bc_if_1000\": \"BC Aug (IF 1000)\",\n",
    "    \"i025_bc_rand_states_1000\": \"BC Aug (Rand States 1000)\",\n",
    "    # \"i026_bc_rand_states_1000_es_20\": \"BC Aug (Rand States 1000 / 20)\",\n",
    "}\n",
    "\n",
    "df_mean, df_std = get_exp_df(exp_name_map)"
   ]
  },
  {
   "cell_type": "code",
   "execution_count": 13,
   "metadata": {},
   "outputs": [
    {
     "data": {
      "text/html": [
       "<div>\n",
       "<style scoped>\n",
       "    .dataframe tbody tr th:only-of-type {\n",
       "        vertical-align: middle;\n",
       "    }\n",
       "\n",
       "    .dataframe tbody tr th {\n",
       "        vertical-align: top;\n",
       "    }\n",
       "\n",
       "    .dataframe thead th {\n",
       "        text-align: right;\n",
       "    }\n",
       "</style>\n",
       "<table border=\"1\" class=\"dataframe\">\n",
       "  <thead>\n",
       "    <tr style=\"text-align: right;\">\n",
       "      <th></th>\n",
       "      <th>BC</th>\n",
       "      <th>BC Aug (PVar 500)</th>\n",
       "      <th>BC Aug (PVar 1000)</th>\n",
       "      <th>BC Aug (Rand States 1000)</th>\n",
       "    </tr>\n",
       "  </thead>\n",
       "  <tbody>\n",
       "    <tr>\n",
       "      <th>nt-5</th>\n",
       "      <td>0.233333</td>\n",
       "      <td>0.324</td>\n",
       "      <td>0.368</td>\n",
       "      <td>0.236</td>\n",
       "    </tr>\n",
       "    <tr>\n",
       "      <th>nt-10</th>\n",
       "      <td>0.328000</td>\n",
       "      <td>0.272</td>\n",
       "      <td>0.368</td>\n",
       "      <td>0.344</td>\n",
       "    </tr>\n",
       "    <tr>\n",
       "      <th>nt-25</th>\n",
       "      <td>0.380000</td>\n",
       "      <td>0.412</td>\n",
       "      <td>0.468</td>\n",
       "      <td>0.420</td>\n",
       "    </tr>\n",
       "    <tr>\n",
       "      <th>nt-50</th>\n",
       "      <td>0.453333</td>\n",
       "      <td>0.448</td>\n",
       "      <td>0.492</td>\n",
       "      <td>0.432</td>\n",
       "    </tr>\n",
       "    <tr>\n",
       "      <th>nt-75</th>\n",
       "      <td>0.486667</td>\n",
       "      <td>0.496</td>\n",
       "      <td>0.520</td>\n",
       "      <td>0.476</td>\n",
       "    </tr>\n",
       "    <tr>\n",
       "      <th>nt-100</th>\n",
       "      <td>0.523333</td>\n",
       "      <td>NaN</td>\n",
       "      <td>NaN</td>\n",
       "      <td>NaN</td>\n",
       "    </tr>\n",
       "  </tbody>\n",
       "</table>\n",
       "</div>"
      ],
      "text/plain": [
       "              BC  BC Aug (PVar 500)  BC Aug (PVar 1000)  \\\n",
       "nt-5    0.233333              0.324               0.368   \n",
       "nt-10   0.328000              0.272               0.368   \n",
       "nt-25   0.380000              0.412               0.468   \n",
       "nt-50   0.453333              0.448               0.492   \n",
       "nt-75   0.486667              0.496               0.520   \n",
       "nt-100  0.523333                NaN                 NaN   \n",
       "\n",
       "        BC Aug (Rand States 1000)  \n",
       "nt-5                        0.236  \n",
       "nt-10                       0.344  \n",
       "nt-25                       0.420  \n",
       "nt-50                       0.432  \n",
       "nt-75                       0.476  \n",
       "nt-100                        NaN  "
      ]
     },
     "execution_count": 13,
     "metadata": {},
     "output_type": "execute_result"
    }
   ],
   "source": [
    "df_mean"
   ]
  },
  {
   "cell_type": "code",
   "execution_count": 14,
   "metadata": {},
   "outputs": [
    {
     "data": {
      "text/plain": [
       "Text(0, 0.5, 'Success Rate (%)')"
      ]
     },
     "execution_count": 14,
     "metadata": {},
     "output_type": "execute_result"
    },
    {
     "data": {
      "image/png": "[encoded data removed]",
      "text/plain": [
       "<Figure size 1000x500 with 1 Axes>"
      ]
     },
     "metadata": {},
     "output_type": "display_data"
    }
   ],
   "source": [
    "ax = df_mean.plot(yerr=df_std, kind=\"bar\", rot=0, capsize=5, figsize=(10, 5))\n",
    "ax.set_title('BC Success Rate (Average over 5 seeds)')\n",
    "ax.set_xlabel('Number of Base Trajectories')\n",
    "ax.set_ylabel('Success Rate (%)')"
   ]
  },
  {
   "cell_type": "code",
   "execution_count": null,
   "metadata": {},
   "outputs": [],
   "source": []
  }
 ],
 "metadata": {
  "kernelspec": {
   "display_name": "jax2",
   "language": "python",
   "name": "python3"
  },
  "language_info": {
   "codemirror_mode": {
    "name": "ipython",
    "version": 3
   },
   "file_extension": ".py",
   "mimetype": "text/x-python",
   "name": "python",
   "nbconvert_exporter": "python",
   "pygments_lexer": "ipython3",
   "version": "3.11.7"
  }
 },
 "nbformat": 4,
 "nbformat_minor": 2
}
